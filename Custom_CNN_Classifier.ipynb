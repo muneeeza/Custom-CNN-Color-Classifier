{
  "nbformat": 4,
  "nbformat_minor": 0,
  "metadata": {
    "colab": {
      "provenance": [],
      "collapsed_sections": [
        "MJ42NK-JTPMO"
      ],
      "gpuType": "T4"
    },
    "kernelspec": {
      "name": "python3",
      "display_name": "Python 3"
    },
    "language_info": {
      "name": "python"
    },
    "accelerator": "GPU"
  },
  "cells": [
    {
      "cell_type": "markdown",
      "source": [
        "# Custom CNN Color Classifier\n",
        "\n",
        "This project is a Convolutional Neural Network (CNN) based image classifier designed to distinguish between three categories of images:\n",
        "- **Transparent**\n",
        "- **Color**\n",
        "- **Black**\n",
        "\n",
        "The model is trained on a custom dataset with images labeled into these categories. In this notebook, we will preprocess the data, build the CNN model, train it, and evaluate its performance."
      ],
      "metadata": {
        "id": "txqZfdFSQOO2"
      }
    },
    {
      "cell_type": "markdown",
      "source": [
        "## Setup and Dependencies\n",
        "\n",
        "Import all necessary libraries and set up paths for the data and output."
      ],
      "metadata": {
        "id": "-hY4VdaCQqF6"
      }
    },
    {
      "cell_type": "code",
      "source": [
        "from google.colab import drive\n",
        "drive.mount('/content/drive')"
      ],
      "metadata": {
        "colab": {
          "base_uri": "https://localhost:8080/"
        },
        "id": "fv4uYTfNT2Kz",
        "outputId": "ceba7528-f9a3-4b79-9c95-c8b6789ddf5d"
      },
      "execution_count": 5,
      "outputs": [
        {
          "output_type": "stream",
          "name": "stdout",
          "text": [
            "Mounted at /content/drive\n"
          ]
        }
      ]
    },
    {
      "cell_type": "code",
      "source": [
        "import cv2\n",
        "import numpy as np\n",
        "import os\n",
        "from tqdm import tqdm\n",
        "from PIL import Image\n",
        "from tensorflow.keras.preprocessing.image import ImageDataGenerator, img_to_array, save_img\n",
        "from tensorflow.keras.models import Sequential\n",
        "from tensorflow.keras.layers import Conv2D, MaxPooling2D, Flatten, Dense, Dropout, BatchNormalization, DepthwiseConv2D\n",
        "from tensorflow.keras.optimizers import Adam\n",
        "from tensorflow.keras.callbacks import EarlyStopping"
      ],
      "metadata": {
        "id": "C8wHT14QQrq6"
      },
      "execution_count": 6,
      "outputs": []
    },
    {
      "cell_type": "markdown",
      "source": [
        "The dataset is stored in the Google Drive folder named `\"DL_Assignment1_Dataset\"`. Preprocessed images will be saved to a separate folder called `\"Preprocessed_Img\"`."
      ],
      "metadata": {
        "id": "0bhDyUViQ1qN"
      }
    },
    {
      "cell_type": "code",
      "source": [
        "# Paths and directory setup\n",
        "Image.MAX_IMAGE_PIXELS = None\n",
        "data_dir = '/content/drive/MyDrive/DL_Assignment1_Dataset'\n",
        "preprocessed_dir = '/content/drive/MyDrive/Preprocessed_Img'\n",
        "if not os.path.exists(preprocessed_dir):\n",
        "    os.makedirs(preprocessed_dir)"
      ],
      "metadata": {
        "id": "kF-l2QFSQy-p"
      },
      "execution_count": 7,
      "outputs": []
    },
    {
      "cell_type": "markdown",
      "source": [
        "## Data Preprocessing\n",
        "The `custom_preprocess` function enhances image quality by converting each image to HSV color space, making it easier to analyze brightness and color intensity. It calculates average saturation and brightness, and if an image is mostly black, it applies edge detection. For non-black images, it adjusts saturation and brightness to improve clarity. This results in either a refined black-and-white edge-detected image or an enhanced color image, creating a consistent dataset for model training."
      ],
      "metadata": {
        "id": "1sloEZGIRMU0"
      }
    },
    {
      "cell_type": "code",
      "source": [
        "# Custom Preprocessing Function\n",
        "def custom_preprocess(img_array):\n",
        "    hsv_img = cv2.cvtColor(img_array.astype(np.uint8), cv2.COLOR_RGB2HSV)\n",
        "    mean_saturation = np.mean(hsv_img[:, :, 1])\n",
        "    mean_value = np.mean(hsv_img[:, :, 2])\n",
        "\n",
        "    is_black = (mean_value < 50) & (mean_saturation < 50)\n",
        "    gray_img = cv2.cvtColor(img_array.astype(np.uint8), cv2.COLOR_RGB2GRAY)\n",
        "    black_img = cv2.Canny(gray_img, threshold1=30, threshold2=100)\n",
        "    black_img = cv2.cvtColor(black_img, cv2.COLOR_GRAY2RGB)\n",
        "\n",
        "    hsv_img[:, :, 1] = hsv_img[:, :, 1] * (1.5 if mean_saturation > 100 else 1)\n",
        "    hsv_img[:, :, 2] = hsv_img[:, :, 2] * (0.7 if (mean_value > 200) & (mean_saturation < 50) else 1)\n",
        "\n",
        "    final_img = black_img if is_black else cv2.cvtColor(hsv_img, cv2.COLOR_HSV2RGB)\n",
        "    return final_img"
      ],
      "metadata": {
        "id": "8rbHfl_1SOoN"
      },
      "execution_count": 8,
      "outputs": []
    },
    {
      "cell_type": "code",
      "source": [
        "# Iterate through each class folder for preprocessing\n",
        "for class_name in os.listdir(data_dir):\n",
        "    class_dir = os.path.join(data_dir, class_name)\n",
        "    new_class_dir = os.path.join(preprocessed_dir, class_name)\n",
        "    os.makedirs(new_class_dir, exist_ok=True)\n",
        "\n",
        "    for img_name in tqdm(os.listdir(class_dir), desc=f\"Processing {class_name}\"):\n",
        "        img_path = os.path.join(class_dir, img_name)\n",
        "\n",
        "        if os.path.isfile(img_path):\n",
        "            with Image.open(img_path) as img:\n",
        "                img.thumbnail((224, 224))\n",
        "                img_array = img_to_array(img)\n",
        "                preprocessed_img = custom_preprocess(img_array)\n",
        "                save_img(os.path.join(new_class_dir, img_name), preprocessed_img)\n"
      ],
      "metadata": {
        "colab": {
          "base_uri": "https://localhost:8080/"
        },
        "id": "jhkqsODiSPNm",
        "outputId": "8a540ea7-e3f1-4e51-c6f9-2d9ee41378d7"
      },
      "execution_count": 9,
      "outputs": [
        {
          "output_type": "stream",
          "name": "stderr",
          "text": [
            "Processing Black: 100%|██████████| 80/80 [02:55<00:00,  2.19s/it]\n",
            "Processing Colorful: 100%|██████████| 80/80 [02:27<00:00,  1.85s/it]\n",
            "Processing Transparent: 100%|██████████| 80/80 [02:26<00:00,  1.84s/it]\n"
          ]
        }
      ]
    },
    {
      "cell_type": "markdown",
      "source": [
        "## Dataset Splitting and Data Generators\n",
        "\n",
        "Use `ImageDataGenerator` to create training and validation datasets from the preprocessed images.\n",
        "The data is split by setting validation_split=0.2 in ImageDataGenerator, which allocates 80% of images for training (`train_generator`) and 20% for validation (`val_generator`)."
      ],
      "metadata": {
        "id": "ZUJBmocASbWB"
      }
    },
    {
      "cell_type": "code",
      "source": [
        "# Custom ImageDataGenerator with updated paths and validation split\n",
        "data_gen = ImageDataGenerator(\n",
        "    rescale=1.0/255.0,\n",
        "    validation_split=0.2\n",
        ")\n",
        "\n",
        "train_generator = data_gen.flow_from_directory(\n",
        "    preprocessed_dir,\n",
        "    target_size=(128, 128),\n",
        "    batch_size=32,\n",
        "    class_mode='categorical',\n",
        "    subset='training'\n",
        ")\n",
        "\n",
        "val_generator = data_gen.flow_from_directory(\n",
        "    preprocessed_dir,\n",
        "    target_size=(128, 128),\n",
        "    batch_size=32,\n",
        "    class_mode='categorical',\n",
        "    subset='validation'\n",
        ")"
      ],
      "metadata": {
        "colab": {
          "base_uri": "https://localhost:8080/"
        },
        "id": "mvSKxmgqSnsw",
        "outputId": "9822c324-1536-4ef3-8885-6731a38a21f6"
      },
      "execution_count": 10,
      "outputs": [
        {
          "output_type": "stream",
          "name": "stdout",
          "text": [
            "Found 192 images belonging to 3 classes.\n",
            "Found 48 images belonging to 3 classes.\n"
          ]
        }
      ]
    },
    {
      "cell_type": "markdown",
      "source": [
        "## Model Definition\n",
        "\n",
        "The model is a sequential CNN with three convolutional layers, max-pooling layers, and a fully connected layer, ending with a softmax output layer for 3-class classification. It uses ReLU activations, dropout for regularization, and is optimized with Adam."
      ],
      "metadata": {
        "id": "qgNTtF36S67f"
      }
    },
    {
      "cell_type": "code",
      "source": [
        "# Model Definition\n",
        "def create_model():\n",
        "    model = Sequential([\n",
        "        Conv2D(32, (3, 3), activation='relu', input_shape=(128, 128, 3)),\n",
        "        DepthwiseConv2D((3, 3), activation='relu'),\n",
        "        MaxPooling2D(2, 2),\n",
        "        Conv2D(64, (3, 3), activation='relu'),\n",
        "        MaxPooling2D(2, 2),\n",
        "        Conv2D(128, (3, 3), activation='relu'),\n",
        "        Flatten(),\n",
        "        Dense(128, activation='relu'),\n",
        "        Dropout(0.5),\n",
        "        Dense(3, activation='softmax')  # Output layer for 3 classes\n",
        "    ])\n",
        "    model.compile(optimizer=Adam(learning_rate=1e-4), loss='categorical_crossentropy', metrics=['accuracy'])\n",
        "    return model\n",
        "\n",
        "# Instantiate and Train Model\n",
        "model = create_model()"
      ],
      "metadata": {
        "colab": {
          "base_uri": "https://localhost:8080/"
        },
        "id": "YMEBj3j6TNJU",
        "outputId": "190021b3-3106-4c16-d521-13e108540310"
      },
      "execution_count": 11,
      "outputs": [
        {
          "output_type": "stream",
          "name": "stderr",
          "text": [
            "/usr/local/lib/python3.10/dist-packages/keras/src/layers/convolutional/base_conv.py:107: UserWarning: Do not pass an `input_shape`/`input_dim` argument to a layer. When using Sequential models, prefer using an `Input(shape)` object as the first layer in the model instead.\n",
            "  super().__init__(activity_regularizer=activity_regularizer, **kwargs)\n"
          ]
        }
      ]
    },
    {
      "cell_type": "markdown",
      "source": [
        "## Model Training\n",
        "\n",
        "Early stopping was used to prevent overfitting and improve training efficiency by monitoring the validation loss. If the validation loss doesn’t improve for 3 consecutive epochs (patience=3), training stops early, and the model’s weights are restored to the best-performing state. This approach ensures the model generalizes well without unnecessary additional training."
      ],
      "metadata": {
        "id": "5solWt34TW6x"
      }
    },
    {
      "cell_type": "code",
      "source": [
        "early_stopping = EarlyStopping(monitor='val_loss', patience=3, restore_best_weights=True)\n",
        "\n",
        "# Calculate steps per epoch\n",
        "total_train_images = train_generator.samples\n",
        "total_val_images = val_generator.samples\n",
        "batch_size = 8\n",
        "\n",
        "# Calculate steps per epoch based on the generator's total samples and batch size\n",
        "steps_per_epoch = train_generator.n // batch_size\n",
        "validation_steps = val_generator.n // batch_size\n",
        "\n",
        "# Train the model\n",
        "history = model.fit(\n",
        "    train_generator,\n",
        "    epochs=10,\n",
        "    validation_data=val_generator,\n",
        "    steps_per_epoch=steps_per_epoch,\n",
        "    validation_steps=validation_steps,\n",
        "    callbacks=[early_stopping]\n",
        ")"
      ],
      "metadata": {
        "colab": {
          "base_uri": "https://localhost:8080/"
        },
        "id": "ivc_GBM2aFjd",
        "outputId": "5910621f-8740-4b24-f451-ef72d11be257"
      },
      "execution_count": 12,
      "outputs": [
        {
          "output_type": "stream",
          "name": "stdout",
          "text": [
            "Epoch 1/10\n"
          ]
        },
        {
          "output_type": "stream",
          "name": "stderr",
          "text": [
            "/usr/local/lib/python3.10/dist-packages/keras/src/trainers/data_adapters/py_dataset_adapter.py:121: UserWarning: Your `PyDataset` class should call `super().__init__(**kwargs)` in its constructor. `**kwargs` can include `workers`, `use_multiprocessing`, `max_queue_size`. Do not pass these arguments to `fit()`, as they will be ignored.\n",
            "  self._warn_if_super_not_called()\n"
          ]
        },
        {
          "output_type": "stream",
          "name": "stdout",
          "text": [
            "\u001b[1m 4/24\u001b[0m \u001b[32m━━━\u001b[0m\u001b[37m━━━━━━━━━━━━━━━━━\u001b[0m \u001b[1m0s\u001b[0m 23ms/step - accuracy: 0.3568 - loss: 1.0983 "
          ]
        },
        {
          "output_type": "stream",
          "name": "stderr",
          "text": [
            "/usr/lib/python3.10/contextlib.py:153: UserWarning: Your input ran out of data; interrupting training. Make sure that your dataset or generator can generate at least `steps_per_epoch * epochs` batches. You may need to use the `.repeat()` function when building your dataset.\n",
            "  self.gen.throw(typ, value, traceback)\n"
          ]
        },
        {
          "output_type": "stream",
          "name": "stdout",
          "text": [
            "\b\b\b\b\b\b\b\b\b\b\b\b\b\b\b\b\b\b\b\b\b\b\b\b\b\b\b\b\b\b\b\b\b\b\b\b\b\b\b\b\b\b\b\b\b\b\b\b\b\b\b\b\b\b\b\b\b\b\b\b\b\b\b\b\b\b\b\b\b\b\b\b\b\r\u001b[1m24/24\u001b[0m \u001b[32m━━━━━━━━━━━━━━━━━━━━\u001b[0m\u001b[37m\u001b[0m \u001b[1m13s\u001b[0m 135ms/step - accuracy: 0.3294 - loss: 1.0990 - val_accuracy: 0.3333 - val_loss: 1.0909\n",
            "Epoch 2/10\n",
            "\u001b[1m24/24\u001b[0m \u001b[32m━━━━━━━━━━━━━━━━━━━━\u001b[0m\u001b[37m\u001b[0m \u001b[1m10s\u001b[0m 17ms/step - accuracy: 0.4400 - loss: 1.0754 - val_accuracy: 0.3333 - val_loss: 1.0780\n",
            "Epoch 3/10\n",
            "\u001b[1m24/24\u001b[0m \u001b[32m━━━━━━━━━━━━━━━━━━━━\u001b[0m\u001b[37m\u001b[0m \u001b[1m1s\u001b[0m 16ms/step - accuracy: 0.5114 - loss: 1.0473 - val_accuracy: 0.4167 - val_loss: 1.0556\n",
            "Epoch 4/10\n",
            "\u001b[1m24/24\u001b[0m \u001b[32m━━━━━━━━━━━━━━━━━━━━\u001b[0m\u001b[37m\u001b[0m \u001b[1m1s\u001b[0m 15ms/step - accuracy: 0.5862 - loss: 1.0067 - val_accuracy: 0.5000 - val_loss: 1.0268\n",
            "Epoch 5/10\n",
            "\u001b[1m24/24\u001b[0m \u001b[32m━━━━━━━━━━━━━━━━━━━━\u001b[0m\u001b[37m\u001b[0m \u001b[1m1s\u001b[0m 16ms/step - accuracy: 0.7531 - loss: 0.9383 - val_accuracy: 0.5208 - val_loss: 0.9788\n",
            "Epoch 6/10\n",
            "\u001b[1m24/24\u001b[0m \u001b[32m━━━━━━━━━━━━━━━━━━━━\u001b[0m\u001b[37m\u001b[0m \u001b[1m1s\u001b[0m 17ms/step - accuracy: 0.7529 - loss: 0.8419 - val_accuracy: 0.5625 - val_loss: 0.9266\n",
            "Epoch 7/10\n",
            "\u001b[1m24/24\u001b[0m \u001b[32m━━━━━━━━━━━━━━━━━━━━\u001b[0m\u001b[37m\u001b[0m \u001b[1m1s\u001b[0m 17ms/step - accuracy: 0.7605 - loss: 0.7741 - val_accuracy: 0.6042 - val_loss: 0.8628\n",
            "Epoch 8/10\n",
            "\u001b[1m24/24\u001b[0m \u001b[32m━━━━━━━━━━━━━━━━━━━━\u001b[0m\u001b[37m\u001b[0m \u001b[1m1s\u001b[0m 21ms/step - accuracy: 0.7455 - loss: 0.6779 - val_accuracy: 0.5833 - val_loss: 0.8278\n",
            "Epoch 9/10\n",
            "\u001b[1m24/24\u001b[0m \u001b[32m━━━━━━━━━━━━━━━━━━━━\u001b[0m\u001b[37m\u001b[0m \u001b[1m1s\u001b[0m 21ms/step - accuracy: 0.8266 - loss: 0.5523 - val_accuracy: 0.6250 - val_loss: 0.7853\n",
            "Epoch 10/10\n",
            "\u001b[1m24/24\u001b[0m \u001b[32m━━━━━━━━━━━━━━━━━━━━\u001b[0m\u001b[37m\u001b[0m \u001b[1m1s\u001b[0m 20ms/step - accuracy: 0.8224 - loss: 0.4812 - val_accuracy: 0.6458 - val_loss: 0.7750\n"
          ]
        }
      ]
    },
    {
      "cell_type": "markdown",
      "source": [
        "## Saving the Model"
      ],
      "metadata": {
        "id": "q8MooAMBTpkg"
      }
    },
    {
      "cell_type": "code",
      "source": [
        "# Save the trained model\n",
        "model.save(\"color_classifier_model.keras\")"
      ],
      "metadata": {
        "id": "h961sDAqTr_c"
      },
      "execution_count": 14,
      "outputs": []
    },
    {
      "cell_type": "markdown",
      "source": [
        "## Setting up the GUI using gradio"
      ],
      "metadata": {
        "id": "TMdYAOvZXN4M"
      }
    },
    {
      "cell_type": "code",
      "source": [
        "!ls"
      ],
      "metadata": {
        "colab": {
          "base_uri": "https://localhost:8080/"
        },
        "id": "NC_yOP3vYFJU",
        "outputId": "adcda115-7f0b-498b-8b1b-c63112aa9500"
      },
      "execution_count": 19,
      "outputs": [
        {
          "output_type": "stream",
          "name": "stdout",
          "text": [
            "color_classifier_model.h5  color_classifier_model.keras  drive\tsample_data\n"
          ]
        }
      ]
    },
    {
      "cell_type": "markdown",
      "source": [
        "The model predicts the appropriate conveyor belt for each object based on its category—whether it’s black, colorful, or transparent. This mapping assigns each category to a specific conveyor belt:\n",
        "\n",
        "\n",
        "*   **A** -` Black Object`: Conveyor belt for black objects.\n",
        "*   **B** - `Transparent Object`: Conveyor belt for transparent objects.\n",
        "*   **C** - `Colorful Object`: Conveyor belt for colorful objects.\n",
        "\n",
        "This setup allows the model to classify objects and direct them to the corresponding conveyor belt."
      ],
      "metadata": {
        "id": "t8210uUxcQC5"
      }
    },
    {
      "cell_type": "code",
      "source": [
        "import gradio as gr\n",
        "import cv2\n",
        "import numpy as np\n",
        "from tensorflow.keras.models import load_model\n",
        "\n",
        "# Load the model without the optimizer state if warnings appear\n",
        "model = load_model(\"color_classifier_model.keras\", compile=False)\n",
        "\n",
        "# Mapping for conveyor belts based on predictions\n",
        "conveyor_mapping = {0: 'A - Black Object', 1: 'C - Colorful Object', 2: 'B - Transparent Object'}\n",
        "\n",
        "# Define the prediction function\n",
        "def predict_conveyor_belt(image):\n",
        "    # Convert the uploaded image to an array and preprocess it\n",
        "    img = np.array(image)\n",
        "    img = cv2.resize(img, (128, 128))  # Resize to model input shape\n",
        "    img = img / 255.0  # Normalize pixel values\n",
        "    img = np.expand_dims(img, axis=0)  # Add batch dimension\n",
        "\n",
        "    # Make prediction\n",
        "    prediction = model.predict(img)\n",
        "    class_idx = np.argmax(prediction, axis=1)[0]\n",
        "    conveyor_belt = conveyor_mapping[class_idx]  # Map class to conveyor belt\n",
        "\n",
        "    return f\"The object should be sent to Conveyor Belt: {conveyor_belt}\"\n",
        "\n",
        "# Set up the Gradio interface\n",
        "interface = gr.Interface(\n",
        "    fn=predict_conveyor_belt,\n",
        "    inputs=gr.Image(type=\"pil\"),\n",
        "    outputs=\"text\",\n",
        "    title=\"Conveyor Belt Prediction\",\n",
        "    description=\"Upload an image to determine the appropriate conveyor belt for the object.\"\n",
        ")\n",
        "\n",
        "interface.launch()\n"
      ],
      "metadata": {
        "colab": {
          "base_uri": "https://localhost:8080/",
          "height": 645
        },
        "id": "7QvR7TRzXmUy",
        "outputId": "d4dd1872-8240-4055-d1fa-54ae43d580f9"
      },
      "execution_count": 23,
      "outputs": [
        {
          "output_type": "stream",
          "name": "stdout",
          "text": [
            "Running Gradio in a Colab notebook requires sharing enabled. Automatically setting `share=True` (you can turn this off by setting `share=False` in `launch()` explicitly).\n",
            "\n",
            "Colab notebook detected. To show errors in colab notebook, set debug=True in launch()\n",
            "* Running on public URL: https://30bc51bf6d3c2726c6.gradio.live\n",
            "\n",
            "This share link expires in 72 hours. For free permanent hosting and GPU upgrades, run `gradio deploy` from the terminal in the working directory to deploy to Hugging Face Spaces (https://huggingface.co/spaces)\n"
          ]
        },
        {
          "output_type": "display_data",
          "data": {
            "text/plain": [
              "<IPython.core.display.HTML object>"
            ],
            "text/html": [
              "<div><iframe src=\"https://30bc51bf6d3c2726c6.gradio.live\" width=\"100%\" height=\"500\" allow=\"autoplay; camera; microphone; clipboard-read; clipboard-write;\" frameborder=\"0\" allowfullscreen></iframe></div>"
            ]
          },
          "metadata": {}
        },
        {
          "output_type": "execute_result",
          "data": {
            "text/plain": []
          },
          "metadata": {},
          "execution_count": 23
        }
      ]
    },
    {
      "cell_type": "markdown",
      "source": [
        "## Visualizing Model's Performance"
      ],
      "metadata": {
        "id": "szRJ_jdKbKKV"
      }
    },
    {
      "cell_type": "code",
      "source": [
        "import matplotlib.pyplot as plt\n",
        "import seaborn as sns\n",
        "sns.set()\n",
        "\n",
        "\n",
        "plt.figure(figsize=(12, 5))\n",
        "\n",
        "# Accuracy plot\n",
        "plt.subplot(1, 2, 1)\n",
        "plt.plot(history.history['accuracy'], label='Training Accuracy')\n",
        "plt.plot(history.history['val_accuracy'], label='Validation Accuracy')\n",
        "plt.title('Model Accuracy')\n",
        "plt.xlabel('Epoch')\n",
        "plt.ylabel('Accuracy')\n",
        "plt.legend()\n",
        "\n",
        "# Loss plot\n",
        "plt.subplot(1, 2, 2)\n",
        "plt.plot(history.history['loss'], label='Training Loss')\n",
        "plt.plot(history.history['val_loss'], label='Validation Loss')\n",
        "plt.title('Model Loss')\n",
        "plt.xlabel('Epoch')\n",
        "plt.ylabel('Loss')\n",
        "plt.legend()\n",
        "\n",
        "plt.show()"
      ],
      "metadata": {
        "colab": {
          "base_uri": "https://localhost:8080/",
          "height": 496
        },
        "id": "r_MJRCELbNcR",
        "outputId": "d222e2bd-02b3-4e5a-e655-e3e03730093a"
      },
      "execution_count": 25,
      "outputs": [
        {
          "output_type": "display_data",
          "data": {
            "text/plain": [
              "<Figure size 1200x500 with 2 Axes>"
            ],
            "image/png": "[encoded data removed]"
          },
          "metadata": {}
        }
      ]
    },
    {
      "cell_type": "markdown",
      "source": [
        "This plot shows the model’s accuracy and loss for both training and validation sets over each epoch:\n",
        "\n",
        "*   **Accuracy Plot** (left): Training accuracy improves steadily, while validation accuracy also increases but remains lower, indicating the model is learning but may slightly overfit the training data.\n",
        "*   **Loss Plot** (right): Both training and validation loss decrease, showing that the model is reducing errors. However, the validation loss remains consistently higher than the training loss, suggesting some overfitting.\n",
        "\n",
        "\n",
        "In summary, the model is learning well on the training data, with slight overfitting indicated by the gap between training and validation performance."
      ],
      "metadata": {
        "id": "NNTWGy3FbqRp"
      }
    }
  ]
}